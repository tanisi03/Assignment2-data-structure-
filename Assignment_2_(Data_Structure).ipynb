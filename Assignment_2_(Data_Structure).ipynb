{
  "nbformat": 4,
  "nbformat_minor": 0,
  "metadata": {
    "colab": {
      "provenance": []
    },
    "kernelspec": {
      "name": "python3",
      "display_name": "Python 3"
    },
    "language_info": {
      "name": "python"
    }
  },
  "cells": [
    {
      "cell_type": "code",
      "execution_count": 1,
      "metadata": {
        "id": "SYNMuv4cSF-a"
      },
      "outputs": [],
      "source": [
        "#Assignment 2 (Data Structure)"
      ]
    },
    {
      "cell_type": "code",
      "source": [
        "#Q1 Discuss string slicing and provide examples.\n",
        "\n",
        "\n",
        "#it's a way to pick out specific parts of a word or sentence in programming."
      ],
      "metadata": {
        "id": "Cd2Wjww-SgCU"
      },
      "execution_count": 2,
      "outputs": []
    },
    {
      "cell_type": "code",
      "source": [
        "#example\n",
        "\n",
        "\n",
        "string1 = \"Hello World\"\n",
        "print(string1[0 : 5])"
      ],
      "metadata": {
        "colab": {
          "base_uri": "https://localhost:8080/"
        },
        "id": "78bwUUcGUN6h",
        "outputId": "e7667864-9659-4e54-a0a4-26eaa9a37c1e"
      },
      "execution_count": 3,
      "outputs": [
        {
          "output_type": "stream",
          "name": "stdout",
          "text": [
            "Hello\n"
          ]
        }
      ]
    },
    {
      "cell_type": "code",
      "source": [
        "#example from intex -5 to the end.\n",
        "\n",
        "\n",
        "string1 = \"Hello World\"\n",
        "print(string1[-5:])"
      ],
      "metadata": {
        "colab": {
          "base_uri": "https://localhost:8080/"
        },
        "id": "y2t8rXIzU0IZ",
        "outputId": "e1ad8db3-3aab-4e91-eb22-5908de986eb9"
      },
      "execution_count": 4,
      "outputs": [
        {
          "output_type": "stream",
          "name": "stdout",
          "text": [
            "World\n"
          ]
        }
      ]
    },
    {
      "cell_type": "code",
      "source": [
        "#Q2 Explain the Key features of lists in Python.\n",
        "\n",
        "\n",
        "#list are ordered collection of items\n",
        "#list is like a shopping bag which can store everything\n",
        "#can store any datatype\n",
        "#list are mutable\n",
        "#list comprehension>>concise code\n",
        "#You can add, remove, or modify elements within a list using indexing and slicing. Lists are versatile for storing and managing collections that might change."
      ],
      "metadata": {
        "id": "b5ZpQCVcWKwQ"
      },
      "execution_count": 5,
      "outputs": []
    },
    {
      "cell_type": "code",
      "source": [
        "#Q3 Describe how to access,modify,and delete elements in a list with examples.\n",
        "\n",
        "\n",
        "#To access,modify,and delete elements in a list,you can use indexing and various list methods.\n"
      ],
      "metadata": {
        "id": "r8tpyvPSaz2j"
      },
      "execution_count": 7,
      "outputs": []
    },
    {
      "cell_type": "code",
      "source": [
        "#access elements>>use indexing\n",
        "#example\n",
        "\n",
        "\n",
        "fruits_list = [\"mango\",\"apple\",\"cherry\"]\n",
        "print(fruits_list[0])"
      ],
      "metadata": {
        "colab": {
          "base_uri": "https://localhost:8080/"
        },
        "id": "LPOBVrqrcW0Z",
        "outputId": "6bc2d52c-dbcb-4565-f869-8e256362eaa4"
      },
      "execution_count": 8,
      "outputs": [
        {
          "output_type": "stream",
          "name": "stdout",
          "text": [
            "mango\n"
          ]
        }
      ]
    },
    {
      "cell_type": "code",
      "source": [
        "#access the last element using negative indexing\n",
        "#example\n",
        "\n",
        "\n",
        "fruits_list = [\"mango\",\"apple\",\"cherry\"]\n",
        "print(fruits_list[-1])\n",
        "\n",
        "\n"
      ],
      "metadata": {
        "colab": {
          "base_uri": "https://localhost:8080/"
        },
        "id": "iLRdzkJfeXkm",
        "outputId": "0b056704-c24b-4f1b-ca68-d02f423ec227"
      },
      "execution_count": 9,
      "outputs": [
        {
          "output_type": "stream",
          "name": "stdout",
          "text": [
            "cherry\n"
          ]
        }
      ]
    },
    {
      "cell_type": "code",
      "source": [
        "#modify elements>>directly assigning a new value to the element at a specific index\n",
        "#example\n",
        "\n",
        "\n",
        "number_list = [10,20,30,40]\n",
        "number_list[3] = 35\n",
        "print(number_list)"
      ],
      "metadata": {
        "colab": {
          "base_uri": "https://localhost:8080/"
        },
        "id": "mOCzcABZe7g3",
        "outputId": "9c76c56a-1ae6-4bb7-9d16-23a315814541"
      },
      "execution_count": 10,
      "outputs": [
        {
          "output_type": "stream",
          "name": "stdout",
          "text": [
            "[10, 20, 30, 35]\n"
          ]
        }
      ]
    },
    {
      "cell_type": "code",
      "source": [
        "#delete elements>>various ways to delete elements from list.you can use 'del' keyword,'remove'method,'clear,or the 'pop' method.\n",
        "#example using 'del'\n",
        "\n",
        "\n",
        "number_list = [10,20,30,40]\n",
        "del number_list[1]\n",
        "print(number_list)"
      ],
      "metadata": {
        "colab": {
          "base_uri": "https://localhost:8080/"
        },
        "id": "-npa4j9-g35q",
        "outputId": "88c2671d-2a7b-49e5-913c-6080f0ea1df2"
      },
      "execution_count": 11,
      "outputs": [
        {
          "output_type": "stream",
          "name": "stdout",
          "text": [
            "[10, 30, 40]\n"
          ]
        }
      ]
    },
    {
      "cell_type": "code",
      "source": [
        "#example using 'remove'\n",
        "\n",
        "\n",
        "number_list = [10,20,30,40]\n",
        "number_list.remove(20)\n",
        "print(number_list)"
      ],
      "metadata": {
        "colab": {
          "base_uri": "https://localhost:8080/"
        },
        "id": "6Osk-obhi-H4",
        "outputId": "52c487a8-91b4-4dd1-bbe5-3ab0b3f694eb"
      },
      "execution_count": 12,
      "outputs": [
        {
          "output_type": "stream",
          "name": "stdout",
          "text": [
            "[10, 30, 40]\n"
          ]
        }
      ]
    },
    {
      "cell_type": "code",
      "source": [
        "#example using 'clear'\n",
        "\n",
        "\n",
        "number_list = [10,20,30,40]\n",
        "number_list.clear()\n",
        "print(number_list)"
      ],
      "metadata": {
        "colab": {
          "base_uri": "https://localhost:8080/"
        },
        "id": "yT_lE0IejizQ",
        "outputId": "e5efe846-a09b-4b77-9591-48994dfdca01"
      },
      "execution_count": 13,
      "outputs": [
        {
          "output_type": "stream",
          "name": "stdout",
          "text": [
            "[]\n"
          ]
        }
      ]
    },
    {
      "cell_type": "code",
      "source": [
        "#example using 'pop'\n",
        "\n",
        "\n",
        "number_list = [10,20,30,40]\n",
        "number_list.pop(2)\n",
        "print(number_list)\n",
        "\n",
        "\n"
      ],
      "metadata": {
        "colab": {
          "base_uri": "https://localhost:8080/"
        },
        "id": "SQ6CW8srj6q7",
        "outputId": "5b26a433-3b62-45b8-877a-af3b6e708fe8"
      },
      "execution_count": 14,
      "outputs": [
        {
          "output_type": "stream",
          "name": "stdout",
          "text": [
            "[10, 20, 40]\n"
          ]
        }
      ]
    },
    {
      "cell_type": "code",
      "source": [
        "#Q4 Compare and contrast tuples and lists with examples.\n",
        "\n",
        "#Lists:\n",
        "#Ordered, mutable collections of elements. Think of shopping lists or task lists. Lists can hold items of various data types (numbers, strings, even other lists!).\n",
        "#You can add, remove, or modify elements within a list using indexing and slicing. Lists are versatile for storing and managing collections that might change.\n",
        "#example\n",
        "\n",
        "shopping_list = [\"apple\",2,\"milk\",True] #mixed data types\n",
        "shopping_list.append(\"mango\") #adding an item\n",
        "del shopping_list[2] #removing te 3 item\n",
        "print(shopping_list)\n",
        "\n"
      ],
      "metadata": {
        "colab": {
          "base_uri": "https://localhost:8080/"
        },
        "id": "zAAm7jPVkVWm",
        "outputId": "97648695-8afd-491e-fde8-0f64512b3eb4"
      },
      "execution_count": 16,
      "outputs": [
        {
          "output_type": "stream",
          "name": "stdout",
          "text": [
            "['apple', 2, True, 'mango']\n"
          ]
        }
      ]
    },
    {
      "cell_type": "code",
      "source": [
        "#Tuples:\n",
        "#Ordered, immutable collections of elements, similar to lists. However, once created, the items in a tuple cannot be changed. They provide a secure way to store data that shouldn't be modified.\n",
        "#You can access elements using indexing and slicing, but you cannot modify the content. Tuples are useful for representing fixed datasets or configurations.\n",
        "#example\n",
        "\n",
        "#create a tuple\n",
        "my_tuple = (10,\"apple\",True)\n",
        "\n",
        "#attempt to modify an(will cause an error)\n",
        "my_tuple[0] = 20  #This line will cause an error\n",
        "\n"
      ],
      "metadata": {
        "colab": {
          "base_uri": "https://localhost:8080/",
          "height": 193
        },
        "id": "R1pt6I6NmqVC",
        "outputId": "d6b2b6c1-9dcd-4d6d-bd1b-c71b2dbe9d18"
      },
      "execution_count": 17,
      "outputs": [
        {
          "output_type": "error",
          "ename": "TypeError",
          "evalue": "'tuple' object does not support item assignment",
          "traceback": [
            "\u001b[0;31m---------------------------------------------------------------------------\u001b[0m",
            "\u001b[0;31mTypeError\u001b[0m                                 Traceback (most recent call last)",
            "\u001b[0;32m<ipython-input-17-2665e833ae77>\u001b[0m in \u001b[0;36m<cell line: 10>\u001b[0;34m()\u001b[0m\n\u001b[1;32m      8\u001b[0m \u001b[0;34m\u001b[0m\u001b[0m\n\u001b[1;32m      9\u001b[0m \u001b[0;31m#attempt to modify an(will cause an error)\u001b[0m\u001b[0;34m\u001b[0m\u001b[0;34m\u001b[0m\u001b[0m\n\u001b[0;32m---> 10\u001b[0;31m \u001b[0mmy_tuple\u001b[0m\u001b[0;34m[\u001b[0m\u001b[0;36m0\u001b[0m\u001b[0;34m]\u001b[0m \u001b[0;34m=\u001b[0m \u001b[0;36m20\u001b[0m \u001b[0;31m#This line will cause an error\u001b[0m\u001b[0;34m\u001b[0m\u001b[0;34m\u001b[0m\u001b[0m\n\u001b[0m\u001b[1;32m     11\u001b[0m \u001b[0;34m\u001b[0m\u001b[0m\n",
            "\u001b[0;31mTypeError\u001b[0m: 'tuple' object does not support item assignment"
          ]
        }
      ]
    },
    {
      "cell_type": "code",
      "source": [
        "#Q5 Describe the key features of sets and provide examples of their use\n",
        "\n",
        "\n",
        "#Unordered collections of unique elements. The order doesn't matter, and duplicate entries are not allowed. Sets are useful for checking membership (if an item exists) or finding the intersection/difference between sets.\n",
        "#You can add or remove elements from a set, but you cannot access elements by index (since order doesn't matter). Set operations like union (combining elements), intersection (finding common elements), and difference (finding elements in one set but not the other) are efficient.\n",
        "\n",
        "\n",
        "\n"
      ],
      "metadata": {
        "id": "goe_PqDmo1Ny"
      },
      "execution_count": 19,
      "outputs": []
    },
    {
      "cell_type": "code",
      "source": [
        "#example\n",
        "\n",
        "#create a set\n",
        "colors = {\"red\",\"blue\",\"green\"}\n",
        "\n"
      ],
      "metadata": {
        "id": "_lz-MHESryca"
      },
      "execution_count": 20,
      "outputs": []
    },
    {
      "cell_type": "code",
      "source": [
        "#Add example\n",
        "\n",
        "colors = {\"red\",\"blue\",\"green\"}\n",
        "colors.add(\"yellow\")\n",
        "print(colors)\n",
        "\n"
      ],
      "metadata": {
        "colab": {
          "base_uri": "https://localhost:8080/"
        },
        "id": "Lxir5lSysEL8",
        "outputId": "837f5be9-7034-4188-e3c4-9936dd8de437"
      },
      "execution_count": 21,
      "outputs": [
        {
          "output_type": "stream",
          "name": "stdout",
          "text": [
            "{'red', 'yellow', 'blue', 'green'}\n"
          ]
        }
      ]
    },
    {
      "cell_type": "code",
      "source": [
        "#remove example\n",
        "\n",
        "colors = {\"red\",\"blue\",\"green\"}\n",
        "colors.remove(\"green\")\n",
        "print(colors)\n",
        "\n"
      ],
      "metadata": {
        "colab": {
          "base_uri": "https://localhost:8080/"
        },
        "id": "XYqSgFG4s5NA",
        "outputId": "4f8432f1-e5ba-473e-85c2-e9d0ea495dec"
      },
      "execution_count": 24,
      "outputs": [
        {
          "output_type": "stream",
          "name": "stdout",
          "text": [
            "{'red', 'blue'}\n"
          ]
        }
      ]
    },
    {
      "cell_type": "code",
      "source": [
        "#set operations example\n",
        "\n",
        "set1 = {1,2,3}\n",
        "set2 = {3,4,5}\n",
        "#union\n",
        "union_set = set1.union(set2)\n",
        "#intersection\n",
        "intersection_set = set1.intersection(set2)\n",
        "print(union_set)\n",
        "print(intersection_set)\n",
        "\n",
        "#difference\n",
        "difference_set = set1.difference(set2)\n",
        "print(difference_set)\n"
      ],
      "metadata": {
        "colab": {
          "base_uri": "https://localhost:8080/"
        },
        "id": "emLX2iLLsO72",
        "outputId": "76160839-862f-4a88-ec0a-e492f75cf0bb"
      },
      "execution_count": 38,
      "outputs": [
        {
          "output_type": "stream",
          "name": "stdout",
          "text": [
            "{1, 2, 3, 4, 5}\n",
            "{3}\n",
            "{1, 2}\n"
          ]
        }
      ]
    },
    {
      "cell_type": "code",
      "source": [
        "\n",
        "#Q6 Discuss the use cases of tuples and sets in python programming\n",
        "\n",
        "#Tuples:\n",
        "#Tuples are ordered collection of elements, heterogenous\n",
        "#Tuples are immutable\n",
        "#use> use tuples as a data structure where you dont want to modify the data\n",
        "#example\n",
        "empid = (1, 2, 3, 4, 5)\n",
        "empid[1] = 100"
      ],
      "metadata": {
        "colab": {
          "base_uri": "https://localhost:8080/",
          "height": 176
        },
        "id": "cnGFZ0JZt11D",
        "outputId": "c9b0ee8f-5eb7-4774-d332-de75c50523a5"
      },
      "execution_count": 37,
      "outputs": [
        {
          "output_type": "error",
          "ename": "TypeError",
          "evalue": "'tuple' object does not support item assignment",
          "traceback": [
            "\u001b[0;31m---------------------------------------------------------------------------\u001b[0m",
            "\u001b[0;31mTypeError\u001b[0m                                 Traceback (most recent call last)",
            "\u001b[0;32m<ipython-input-37-a87eb0340675>\u001b[0m in \u001b[0;36m<cell line: 9>\u001b[0;34m()\u001b[0m\n\u001b[1;32m      7\u001b[0m \u001b[0;31m#example\u001b[0m\u001b[0;34m\u001b[0m\u001b[0;34m\u001b[0m\u001b[0m\n\u001b[1;32m      8\u001b[0m \u001b[0mempid\u001b[0m \u001b[0;34m=\u001b[0m \u001b[0;34m(\u001b[0m\u001b[0;36m1\u001b[0m\u001b[0;34m,\u001b[0m \u001b[0;36m2\u001b[0m\u001b[0;34m,\u001b[0m \u001b[0;36m3\u001b[0m\u001b[0;34m,\u001b[0m \u001b[0;36m4\u001b[0m\u001b[0;34m,\u001b[0m \u001b[0;36m5\u001b[0m\u001b[0;34m)\u001b[0m\u001b[0;34m\u001b[0m\u001b[0;34m\u001b[0m\u001b[0m\n\u001b[0;32m----> 9\u001b[0;31m \u001b[0mempid\u001b[0m\u001b[0;34m[\u001b[0m\u001b[0;36m1\u001b[0m\u001b[0;34m]\u001b[0m \u001b[0;34m=\u001b[0m \u001b[0;36m100\u001b[0m\u001b[0;34m\u001b[0m\u001b[0;34m\u001b[0m\u001b[0m\n\u001b[0m",
            "\u001b[0;31mTypeError\u001b[0m: 'tuple' object does not support item assignment"
          ]
        }
      ]
    },
    {
      "cell_type": "code",
      "source": [
        "#Sets:\n",
        "#sets>>sets are unordered and unique collection of elements\n",
        "#doesn't alllow duplicate elements\n",
        "#unordered>> indexing will not work\n",
        "#use case\n",
        "list1 = [1, 2, 3, \"Brinjal\", \"Brinjal\", \"Apple\", \"Apple\"]\n",
        "s = set(list1)"
      ],
      "metadata": {
        "id": "4-kzb8EvvF3h"
      },
      "execution_count": 28,
      "outputs": []
    },
    {
      "cell_type": "code",
      "source": [
        "s"
      ],
      "metadata": {
        "colab": {
          "base_uri": "https://localhost:8080/"
        },
        "id": "AM2yxjJdwVB-",
        "outputId": "0bb88d54-0502-491b-a0a7-396f0f4822cc"
      },
      "execution_count": 29,
      "outputs": [
        {
          "output_type": "execute_result",
          "data": {
            "text/plain": [
              "{1, 2, 3, 'Apple', 'Brinjal'}"
            ]
          },
          "metadata": {},
          "execution_count": 29
        }
      ]
    },
    {
      "cell_type": "code",
      "source": [
        "#Q7 Describe how to add,modify,and delete items in a dictionary with examples\n",
        "\n",
        "#to add>>to add a new item to a dictionary,you can simply assign a value to a new key in the dictionary\n",
        "#example\n",
        "my_dict = {}\n",
        "my_dict[\"name\"] = \"tanu\"\n",
        "print(my_dict)\n"
      ],
      "metadata": {
        "colab": {
          "base_uri": "https://localhost:8080/"
        },
        "id": "Lxkt9LB-wZti",
        "outputId": "4595a857-97d3-401c-c64d-109ca6bc8311"
      },
      "execution_count": 30,
      "outputs": [
        {
          "output_type": "stream",
          "name": "stdout",
          "text": [
            "{'name': 'tanu'}\n"
          ]
        }
      ]
    },
    {
      "cell_type": "code",
      "source": [
        "#to modify>>to modify an existing item in a dictionary,you can reassign a new value to an existing key\n",
        "#example\n",
        "my_dict = {\"name\":\"tanu\"}\n",
        "my_dict[\"name\"] = \"harsh\"\n",
        "print(my_dict)"
      ],
      "metadata": {
        "colab": {
          "base_uri": "https://localhost:8080/"
        },
        "id": "SSaBdSuhx0hQ",
        "outputId": "145b01e2-69f7-480e-8b64-58d117e73df1"
      },
      "execution_count": 32,
      "outputs": [
        {
          "output_type": "stream",
          "name": "stdout",
          "text": [
            "{'name': 'harsh'}\n"
          ]
        }
      ]
    },
    {
      "cell_type": "code",
      "source": [
        "#to delete>>to delete an item from a dictionary,you can use the'del' keyword followed by the key you want to remove\n",
        "#example\n",
        "my_dict = {\"name\":\"tanu\", \"age\":18}\n",
        "del my_dict[\"name\"]\n",
        "print(my_dict)"
      ],
      "metadata": {
        "colab": {
          "base_uri": "https://localhost:8080/"
        },
        "id": "1bgSjCyFydKq",
        "outputId": "ebc6159f-de45-4652-f14a-a9e5872b17b3"
      },
      "execution_count": 33,
      "outputs": [
        {
          "output_type": "stream",
          "name": "stdout",
          "text": [
            "{'age': 18}\n"
          ]
        }
      ]
    },
    {
      "cell_type": "code",
      "source": [
        "#Q8 Discuss the importance of dictionary keys being immutable and provide examples\n",
        "\n",
        "#dictionary is a data structure that stores data as key value pair\n",
        "#Keys are unique and immutable\n",
        "#only string and numvbers can be used as a key of the dictionary\n",
        "\n"
      ],
      "metadata": {
        "id": "BDX0LGFZzDI8"
      },
      "execution_count": 39,
      "outputs": []
    },
    {
      "cell_type": "code",
      "source": [
        "#string example>>immutable>>making them commonly used in dictionary keys\n",
        "\n",
        "my_dict = {\"name\":\"tanu\", \"age\":18}\n",
        "print(my_dict[\"name\"])"
      ],
      "metadata": {
        "colab": {
          "base_uri": "https://localhost:8080/"
        },
        "id": "bJvuEf2Z24Ed",
        "outputId": "cbd4d98a-a59c-4ad6-83f7-1d2e414f9c5a"
      },
      "execution_count": 40,
      "outputs": [
        {
          "output_type": "stream",
          "name": "stdout",
          "text": [
            "tanu\n"
          ]
        }
      ]
    },
    {
      "cell_type": "code",
      "source": [
        "#numbers example>>numeric data types like integers and floats are immutable and can be used as dictionary kets\n",
        "\n",
        "my_dict = {1: \"one\", 2: \"two\", 3: \"three\"}\n",
        "print(my_dict[2])"
      ],
      "metadata": {
        "colab": {
          "base_uri": "https://localhost:8080/"
        },
        "id": "JAE8KOtQ3R16",
        "outputId": "e9b6582a-b3df-4727-874c-ffc22543baf0"
      },
      "execution_count": 41,
      "outputs": [
        {
          "output_type": "stream",
          "name": "stdout",
          "text": [
            "two\n"
          ]
        }
      ]
    },
    {
      "cell_type": "code",
      "source": [],
      "metadata": {
        "id": "43rf4hXf3pK4"
      },
      "execution_count": null,
      "outputs": []
    }
  ]
}